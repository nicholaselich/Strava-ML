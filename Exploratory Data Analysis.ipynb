{
 "cells": [
  {
   "cell_type": "markdown",
   "id": "6c70067b",
   "metadata": {},
   "source": [
    "## Exploratory Data Analysis"
   ]
  },
  {
   "cell_type": "markdown",
   "id": "5eb77ec4",
   "metadata": {},
   "source": [
    "### Packages"
   ]
  },
  {
   "cell_type": "code",
   "execution_count": 83,
   "id": "37476179",
   "metadata": {},
   "outputs": [],
   "source": [
    "import pandas as pd\n",
    "import seaborn as sns\n",
    "from datetime import datetime\n",
    "import matplotlib.pyplot as plt"
   ]
  },
  {
   "cell_type": "markdown",
   "id": "2bc9eb6b",
   "metadata": {},
   "source": [
    "### Data"
   ]
  },
  {
   "cell_type": "markdown",
   "id": "0c6e6e9e",
   "metadata": {},
   "source": [
    "- Dropping Activity Date, Activity Id, and Rounded Time as unnecessary variables\n",
    "\n",
    "- Grade Adjusted Distance (mi) and Moving Time (min) can be represented by other variables and are dropped\n",
    "\n",
    "- Average speed *causes* higher heart rate values, so Average and Max Heart Rate are also dropped"
   ]
  },
  {
   "cell_type": "code",
   "execution_count": 84,
   "id": "7440befa",
   "metadata": {},
   "outputs": [
    {
     "data": {
      "text/html": [
       "<div>\n",
       "<style scoped>\n",
       "    .dataframe tbody tr th:only-of-type {\n",
       "        vertical-align: middle;\n",
       "    }\n",
       "\n",
       "    .dataframe tbody tr th {\n",
       "        vertical-align: top;\n",
       "    }\n",
       "\n",
       "    .dataframe thead th {\n",
       "        text-align: right;\n",
       "    }\n",
       "</style>\n",
       "<table border=\"1\" class=\"dataframe\">\n",
       "  <thead>\n",
       "    <tr style=\"text-align: right;\">\n",
       "      <th></th>\n",
       "      <th>Max Grade</th>\n",
       "      <th>Average Grade</th>\n",
       "      <th>Average Cadence</th>\n",
       "      <th>Distance (mi)</th>\n",
       "      <th>Max Speed (mph)</th>\n",
       "      <th>Average Speed (mph)</th>\n",
       "      <th>Elevation Gain (ft)</th>\n",
       "      <th>Elevation Loss (ft)</th>\n",
       "      <th>Elevation Low (ft)</th>\n",
       "      <th>Elevation High (ft)</th>\n",
       "      <th>Hour of Day</th>\n",
       "      <th>Rest Hours</th>\n",
       "    </tr>\n",
       "  </thead>\n",
       "  <tbody>\n",
       "    <tr>\n",
       "      <th>243</th>\n",
       "      <td>6.598647</td>\n",
       "      <td>-0.003788</td>\n",
       "      <td>79.424835</td>\n",
       "      <td>3.281541</td>\n",
       "      <td>10.510150</td>\n",
       "      <td>7.689527</td>\n",
       "      <td>68.113561</td>\n",
       "      <td>314.976</td>\n",
       "      <td>240.169190</td>\n",
       "      <td>274.61969</td>\n",
       "      <td>20</td>\n",
       "      <td>59.454444</td>\n",
       "    </tr>\n",
       "    <tr>\n",
       "      <th>244</th>\n",
       "      <td>32.864151</td>\n",
       "      <td>0.009645</td>\n",
       "      <td>79.985237</td>\n",
       "      <td>4.505904</td>\n",
       "      <td>9.809267</td>\n",
       "      <td>7.731424</td>\n",
       "      <td>149.154257</td>\n",
       "      <td>410.125</td>\n",
       "      <td>252.308905</td>\n",
       "      <td>325.47519</td>\n",
       "      <td>18</td>\n",
       "      <td>22.002500</td>\n",
       "    </tr>\n",
       "    <tr>\n",
       "      <th>245</th>\n",
       "      <td>30.578009</td>\n",
       "      <td>-0.000774</td>\n",
       "      <td>81.236656</td>\n",
       "      <td>8.029832</td>\n",
       "      <td>12.395798</td>\n",
       "      <td>7.261437</td>\n",
       "      <td>579.926763</td>\n",
       "      <td>1843.922</td>\n",
       "      <td>253.293190</td>\n",
       "      <td>548.25512</td>\n",
       "      <td>10</td>\n",
       "      <td>88.331111</td>\n",
       "    </tr>\n",
       "    <tr>\n",
       "      <th>246</th>\n",
       "      <td>7.743643</td>\n",
       "      <td>-0.017310</td>\n",
       "      <td>81.170227</td>\n",
       "      <td>4.307023</td>\n",
       "      <td>10.187306</td>\n",
       "      <td>7.700011</td>\n",
       "      <td>144.787792</td>\n",
       "      <td>406.844</td>\n",
       "      <td>252.308905</td>\n",
       "      <td>325.80331</td>\n",
       "      <td>8</td>\n",
       "      <td>45.996389</td>\n",
       "    </tr>\n",
       "    <tr>\n",
       "      <th>247</th>\n",
       "      <td>19.195162</td>\n",
       "      <td>-0.006968</td>\n",
       "      <td>81.706886</td>\n",
       "      <td>8.023617</td>\n",
       "      <td>10.689103</td>\n",
       "      <td>7.688465</td>\n",
       "      <td>459.493096</td>\n",
       "      <td>994.143</td>\n",
       "      <td>230.654310</td>\n",
       "      <td>498.71200</td>\n",
       "      <td>13</td>\n",
       "      <td>29.165000</td>\n",
       "    </tr>\n",
       "  </tbody>\n",
       "</table>\n",
       "</div>"
      ],
      "text/plain": [
       "     Max Grade  Average Grade  Average Cadence  Distance (mi)  \\\n",
       "243   6.598647      -0.003788        79.424835       3.281541   \n",
       "244  32.864151       0.009645        79.985237       4.505904   \n",
       "245  30.578009      -0.000774        81.236656       8.029832   \n",
       "246   7.743643      -0.017310        81.170227       4.307023   \n",
       "247  19.195162      -0.006968        81.706886       8.023617   \n",
       "\n",
       "     Max Speed (mph)  Average Speed (mph)  Elevation Gain (ft)  \\\n",
       "243        10.510150             7.689527            68.113561   \n",
       "244         9.809267             7.731424           149.154257   \n",
       "245        12.395798             7.261437           579.926763   \n",
       "246        10.187306             7.700011           144.787792   \n",
       "247        10.689103             7.688465           459.493096   \n",
       "\n",
       "     Elevation Loss (ft)  Elevation Low (ft)  Elevation High (ft)  \\\n",
       "243              314.976          240.169190            274.61969   \n",
       "244              410.125          252.308905            325.47519   \n",
       "245             1843.922          253.293190            548.25512   \n",
       "246              406.844          252.308905            325.80331   \n",
       "247              994.143          230.654310            498.71200   \n",
       "\n",
       "     Hour of Day  Rest Hours  \n",
       "243           20   59.454444  \n",
       "244           18   22.002500  \n",
       "245           10   88.331111  \n",
       "246            8   45.996389  \n",
       "247           13   29.165000  "
      ]
     },
     "execution_count": 84,
     "metadata": {},
     "output_type": "execute_result"
    }
   ],
   "source": [
    "runs = pd.read_csv(\"/Users/nicholas.elich/STRAVA_ML/runs.csv\")\n",
    "runs.drop([\"Activity Date\", \"Rounded Time\", \"Activity ID\", \"Moving Time (min)\",\n",
    "           \"Grade Adjusted Distance (mi)\", \"Average Heart Rate\", \"Max Heart Rate\"], axis=1, inplace=True)\n",
    "runs.tail()"
   ]
  },
  {
   "cell_type": "markdown",
   "id": "d144c61f",
   "metadata": {},
   "source": [
    "#### Dataframe Information"
   ]
  },
  {
   "cell_type": "code",
   "execution_count": 85,
   "id": "02fe18b4",
   "metadata": {},
   "outputs": [
    {
     "name": "stdout",
     "output_type": "stream",
     "text": [
      "<class 'pandas.core.frame.DataFrame'>\n",
      "RangeIndex: 248 entries, 0 to 247\n",
      "Data columns (total 12 columns):\n",
      " #   Column               Non-Null Count  Dtype  \n",
      "---  ------               --------------  -----  \n",
      " 0   Max Grade            248 non-null    float64\n",
      " 1   Average Grade        248 non-null    float64\n",
      " 2   Average Cadence      236 non-null    float64\n",
      " 3   Distance (mi)        248 non-null    float64\n",
      " 4   Max Speed (mph)      248 non-null    float64\n",
      " 5   Average Speed (mph)  248 non-null    float64\n",
      " 6   Elevation Gain (ft)  248 non-null    float64\n",
      " 7   Elevation Loss (ft)  248 non-null    float64\n",
      " 8   Elevation Low (ft)   248 non-null    float64\n",
      " 9   Elevation High (ft)  248 non-null    float64\n",
      " 10  Hour of Day          248 non-null    int64  \n",
      " 11  Rest Hours           247 non-null    float64\n",
      "dtypes: float64(11), int64(1)\n",
      "memory usage: 23.4 KB\n"
     ]
    }
   ],
   "source": [
    "runs.info()"
   ]
  },
  {
   "cell_type": "markdown",
   "id": "4fdb6146",
   "metadata": {},
   "source": [
    "### Descriptive Statistics and Histograms"
   ]
  },
  {
   "cell_type": "code",
   "execution_count": 86,
   "id": "d01d1974",
   "metadata": {},
   "outputs": [
    {
     "data": {
      "text/html": [
       "<div>\n",
       "<style scoped>\n",
       "    .dataframe tbody tr th:only-of-type {\n",
       "        vertical-align: middle;\n",
       "    }\n",
       "\n",
       "    .dataframe tbody tr th {\n",
       "        vertical-align: top;\n",
       "    }\n",
       "\n",
       "    .dataframe thead th {\n",
       "        text-align: right;\n",
       "    }\n",
       "</style>\n",
       "<table border=\"1\" class=\"dataframe\">\n",
       "  <thead>\n",
       "    <tr style=\"text-align: right;\">\n",
       "      <th></th>\n",
       "      <th>Max Grade</th>\n",
       "      <th>Average Grade</th>\n",
       "      <th>Average Cadence</th>\n",
       "      <th>Distance (mi)</th>\n",
       "      <th>Max Speed (mph)</th>\n",
       "      <th>Average Speed (mph)</th>\n",
       "      <th>Elevation Gain (ft)</th>\n",
       "      <th>Elevation Loss (ft)</th>\n",
       "      <th>Elevation Low (ft)</th>\n",
       "      <th>Elevation High (ft)</th>\n",
       "      <th>Hour of Day</th>\n",
       "      <th>Rest Hours</th>\n",
       "    </tr>\n",
       "  </thead>\n",
       "  <tbody>\n",
       "    <tr>\n",
       "      <th>count</th>\n",
       "      <td>248.000000</td>\n",
       "      <td>248.000000</td>\n",
       "      <td>236.000000</td>\n",
       "      <td>248.000000</td>\n",
       "      <td>248.000000</td>\n",
       "      <td>248.000000</td>\n",
       "      <td>248.000000</td>\n",
       "      <td>248.000000</td>\n",
       "      <td>248.000000</td>\n",
       "      <td>248.000000</td>\n",
       "      <td>248.000000</td>\n",
       "      <td>247.000000</td>\n",
       "    </tr>\n",
       "    <tr>\n",
       "      <th>mean</th>\n",
       "      <td>18.100297</td>\n",
       "      <td>-0.010799</td>\n",
       "      <td>82.464310</td>\n",
       "      <td>5.248827</td>\n",
       "      <td>12.247916</td>\n",
       "      <td>7.829504</td>\n",
       "      <td>320.524794</td>\n",
       "      <td>807.164325</td>\n",
       "      <td>302.319013</td>\n",
       "      <td>525.523590</td>\n",
       "      <td>15.197581</td>\n",
       "      <td>57.591742</td>\n",
       "    </tr>\n",
       "    <tr>\n",
       "      <th>std</th>\n",
       "      <td>13.542171</td>\n",
       "      <td>0.395192</td>\n",
       "      <td>2.052206</td>\n",
       "      <td>2.459421</td>\n",
       "      <td>3.672844</td>\n",
       "      <td>0.745072</td>\n",
       "      <td>265.560961</td>\n",
       "      <td>1407.833066</td>\n",
       "      <td>540.400573</td>\n",
       "      <td>584.994032</td>\n",
       "      <td>3.950769</td>\n",
       "      <td>54.338079</td>\n",
       "    </tr>\n",
       "    <tr>\n",
       "      <th>min</th>\n",
       "      <td>0.000000</td>\n",
       "      <td>-2.251604</td>\n",
       "      <td>66.980240</td>\n",
       "      <td>0.105656</td>\n",
       "      <td>7.864302</td>\n",
       "      <td>4.776261</td>\n",
       "      <td>0.000000</td>\n",
       "      <td>0.000000</td>\n",
       "      <td>0.000000</td>\n",
       "      <td>0.000000</td>\n",
       "      <td>0.000000</td>\n",
       "      <td>0.059167</td>\n",
       "    </tr>\n",
       "    <tr>\n",
       "      <th>25%</th>\n",
       "      <td>7.709939</td>\n",
       "      <td>-0.059200</td>\n",
       "      <td>81.312950</td>\n",
       "      <td>3.996271</td>\n",
       "      <td>10.077286</td>\n",
       "      <td>7.308366</td>\n",
       "      <td>141.960667</td>\n",
       "      <td>395.360500</td>\n",
       "      <td>247.715500</td>\n",
       "      <td>326.131405</td>\n",
       "      <td>13.000000</td>\n",
       "      <td>24.205833</td>\n",
       "    </tr>\n",
       "    <tr>\n",
       "      <th>50%</th>\n",
       "      <td>13.768010</td>\n",
       "      <td>-0.000773</td>\n",
       "      <td>82.455624</td>\n",
       "      <td>5.003108</td>\n",
       "      <td>11.516085</td>\n",
       "      <td>7.738837</td>\n",
       "      <td>238.350975</td>\n",
       "      <td>625.030500</td>\n",
       "      <td>264.284547</td>\n",
       "      <td>396.344810</td>\n",
       "      <td>16.000000</td>\n",
       "      <td>45.870000</td>\n",
       "    </tr>\n",
       "    <tr>\n",
       "      <th>75%</th>\n",
       "      <td>24.473117</td>\n",
       "      <td>0.057696</td>\n",
       "      <td>83.514175</td>\n",
       "      <td>6.406153</td>\n",
       "      <td>13.320837</td>\n",
       "      <td>8.161569</td>\n",
       "      <td>392.320559</td>\n",
       "      <td>959.692500</td>\n",
       "      <td>285.775095</td>\n",
       "      <td>503.141345</td>\n",
       "      <td>18.000000</td>\n",
       "      <td>69.865278</td>\n",
       "    </tr>\n",
       "    <tr>\n",
       "      <th>max</th>\n",
       "      <td>49.850304</td>\n",
       "      <td>4.832171</td>\n",
       "      <td>93.109940</td>\n",
       "      <td>13.119950</td>\n",
       "      <td>34.925974</td>\n",
       "      <td>11.663709</td>\n",
       "      <td>1508.323902</td>\n",
       "      <td>21480.707000</td>\n",
       "      <td>6241.774480</td>\n",
       "      <td>6448.477480</td>\n",
       "      <td>23.000000</td>\n",
       "      <td>370.034722</td>\n",
       "    </tr>\n",
       "  </tbody>\n",
       "</table>\n",
       "</div>"
      ],
      "text/plain": [
       "        Max Grade  Average Grade  Average Cadence  Distance (mi)  \\\n",
       "count  248.000000     248.000000       236.000000     248.000000   \n",
       "mean    18.100297      -0.010799        82.464310       5.248827   \n",
       "std     13.542171       0.395192         2.052206       2.459421   \n",
       "min      0.000000      -2.251604        66.980240       0.105656   \n",
       "25%      7.709939      -0.059200        81.312950       3.996271   \n",
       "50%     13.768010      -0.000773        82.455624       5.003108   \n",
       "75%     24.473117       0.057696        83.514175       6.406153   \n",
       "max     49.850304       4.832171        93.109940      13.119950   \n",
       "\n",
       "       Max Speed (mph)  Average Speed (mph)  Elevation Gain (ft)  \\\n",
       "count       248.000000           248.000000           248.000000   \n",
       "mean         12.247916             7.829504           320.524794   \n",
       "std           3.672844             0.745072           265.560961   \n",
       "min           7.864302             4.776261             0.000000   \n",
       "25%          10.077286             7.308366           141.960667   \n",
       "50%          11.516085             7.738837           238.350975   \n",
       "75%          13.320837             8.161569           392.320559   \n",
       "max          34.925974            11.663709          1508.323902   \n",
       "\n",
       "       Elevation Loss (ft)  Elevation Low (ft)  Elevation High (ft)  \\\n",
       "count           248.000000          248.000000           248.000000   \n",
       "mean            807.164325          302.319013           525.523590   \n",
       "std            1407.833066          540.400573           584.994032   \n",
       "min               0.000000            0.000000             0.000000   \n",
       "25%             395.360500          247.715500           326.131405   \n",
       "50%             625.030500          264.284547           396.344810   \n",
       "75%             959.692500          285.775095           503.141345   \n",
       "max           21480.707000         6241.774480          6448.477480   \n",
       "\n",
       "       Hour of Day  Rest Hours  \n",
       "count   248.000000  247.000000  \n",
       "mean     15.197581   57.591742  \n",
       "std       3.950769   54.338079  \n",
       "min       0.000000    0.059167  \n",
       "25%      13.000000   24.205833  \n",
       "50%      16.000000   45.870000  \n",
       "75%      18.000000   69.865278  \n",
       "max      23.000000  370.034722  "
      ]
     },
     "execution_count": 86,
     "metadata": {},
     "output_type": "execute_result"
    }
   ],
   "source": [
    "runs.describe()"
   ]
  },
  {
   "cell_type": "markdown",
   "id": "095ee65c",
   "metadata": {},
   "source": [
    "#### Response: Speed (mph)"
   ]
  },
  {
   "cell_type": "code",
   "execution_count": 87,
   "id": "df9a2af9",
   "metadata": {},
   "outputs": [
    {
     "data": {
      "text/plain": [
       "<AxesSubplot:>"
      ]
     },
     "execution_count": 87,
     "metadata": {},
     "output_type": "execute_result"
    },
    {
     "data": {
      "image/png": "[encoded data removed]",
      "text/plain": [
       "<Figure size 432x288 with 1 Axes>"
      ]
     },
     "metadata": {
      "needs_background": "light"
     },
     "output_type": "display_data"
    }
   ],
   "source": [
    "runs[\"Average Speed (mph)\"].hist()"
   ]
  },
  {
   "cell_type": "code",
   "execution_count": 88,
   "id": "04825c0f",
   "metadata": {},
   "outputs": [
    {
     "data": {
      "text/plain": [
       "1.1515896592090744"
      ]
     },
     "execution_count": 88,
     "metadata": {},
     "output_type": "execute_result"
    }
   ],
   "source": [
    "runs[\"Average Speed (mph)\"].skew()"
   ]
  },
  {
   "cell_type": "markdown",
   "id": "bbca818d",
   "metadata": {},
   "source": [
    "The response variable in this case exibhits strong right (positive) skew. The skew will be tolerated as the model is being designed to understand the natural imbalance that stems from the slower paces that  arise from from runs of longer distances."
   ]
  },
  {
   "cell_type": "markdown",
   "id": "ffa0f5df",
   "metadata": {},
   "source": [
    "#### Max Grade"
   ]
  },
  {
   "cell_type": "code",
   "execution_count": 89,
   "id": "394f505f",
   "metadata": {},
   "outputs": [
    {
     "data": {
      "text/plain": [
       "<AxesSubplot:>"
      ]
     },
     "execution_count": 89,
     "metadata": {},
     "output_type": "execute_result"
    },
    {
     "data": {
      "image/png": "[encoded data removed]",
      "text/plain": [
       "<Figure size 432x288 with 1 Axes>"
      ]
     },
     "metadata": {
      "needs_background": "light"
     },
     "output_type": "display_data"
    }
   ],
   "source": [
    "runs[\"Max Grade\"].hist()"
   ]
  },
  {
   "cell_type": "markdown",
   "id": "597413aa",
   "metadata": {},
   "source": [
    "#### Average Grade"
   ]
  },
  {
   "cell_type": "code",
   "execution_count": 90,
   "id": "165ae3ad",
   "metadata": {},
   "outputs": [
    {
     "data": {
      "text/plain": [
       "<AxesSubplot:>"
      ]
     },
     "execution_count": 90,
     "metadata": {},
     "output_type": "execute_result"
    },
    {
     "data": {
      "image/png": "[encoded data removed]",
      "text/plain": [
       "<Figure size 432x288 with 1 Axes>"
      ]
     },
     "metadata": {
      "needs_background": "light"
     },
     "output_type": "display_data"
    }
   ],
   "source": [
    "runs[\"Average Grade\"].hist()"
   ]
  },
  {
   "cell_type": "markdown",
   "id": "899449ba",
   "metadata": {},
   "source": [
    "#### Average Cadence"
   ]
  },
  {
   "cell_type": "code",
   "execution_count": 91,
   "id": "93330e44",
   "metadata": {},
   "outputs": [
    {
     "data": {
      "text/plain": [
       "<AxesSubplot:>"
      ]
     },
     "execution_count": 91,
     "metadata": {},
     "output_type": "execute_result"
    },
    {
     "data": {
      "image/png": "[encoded data removed]",
      "text/plain": [
       "<Figure size 432x288 with 1 Axes>"
      ]
     },
     "metadata": {
      "needs_background": "light"
     },
     "output_type": "display_data"
    }
   ],
   "source": [
    "runs[\"Average Cadence\"].hist()"
   ]
  },
  {
   "cell_type": "markdown",
   "id": "322cf966",
   "metadata": {},
   "source": [
    "#### Distance (mi)"
   ]
  },
  {
   "cell_type": "code",
   "execution_count": 92,
   "id": "8e0657b8",
   "metadata": {},
   "outputs": [
    {
     "data": {
      "text/plain": [
       "<AxesSubplot:>"
      ]
     },
     "execution_count": 92,
     "metadata": {},
     "output_type": "execute_result"
    },
    {
     "data": {
      "image/png": "[encoded data removed]",
      "text/plain": [
       "<Figure size 432x288 with 1 Axes>"
      ]
     },
     "metadata": {
      "needs_background": "light"
     },
     "output_type": "display_data"
    }
   ],
   "source": [
    "runs[\"Distance (mi)\"].hist()"
   ]
  },
  {
   "cell_type": "markdown",
   "id": "70808a22",
   "metadata": {},
   "source": [
    "#### Max Speed (mph)"
   ]
  },
  {
   "cell_type": "code",
   "execution_count": 93,
   "id": "af8255b7",
   "metadata": {},
   "outputs": [
    {
     "data": {
      "text/plain": [
       "<AxesSubplot:>"
      ]
     },
     "execution_count": 93,
     "metadata": {},
     "output_type": "execute_result"
    },
    {
     "data": {
      "image/png": "[encoded data removed]",
      "text/plain": [
       "<Figure size 432x288 with 1 Axes>"
      ]
     },
     "metadata": {
      "needs_background": "light"
     },
     "output_type": "display_data"
    }
   ],
   "source": [
    "runs[\"Max Speed (mph)\"].hist()"
   ]
  },
  {
   "cell_type": "markdown",
   "id": "03c55392",
   "metadata": {},
   "source": [
    "Values above 20 mph are unrealistic and probably an error in data collection from my Garmin watch. High values are being replaced with the median."
   ]
  },
  {
   "cell_type": "code",
   "execution_count": 94,
   "id": "1f182aad",
   "metadata": {},
   "outputs": [],
   "source": [
    "median = runs.loc[runs[\"Max Speed (mph)\"] < 20, \"Max Speed (mph)\"].median()\n",
    "runs[\"Max Speed (mph)\"] = runs[\"Max Speed (mph)\"].mask(runs[\"Max Speed (mph)\"] > 20, median)"
   ]
  },
  {
   "cell_type": "code",
   "execution_count": 95,
   "id": "e317d8eb",
   "metadata": {},
   "outputs": [
    {
     "data": {
      "text/plain": [
       "<AxesSubplot:>"
      ]
     },
     "execution_count": 95,
     "metadata": {},
     "output_type": "execute_result"
    },
    {
     "data": {
      "image/png": "[encoded data removed]",
      "text/plain": [
       "<Figure size 432x288 with 1 Axes>"
      ]
     },
     "metadata": {
      "needs_background": "light"
     },
     "output_type": "display_data"
    }
   ],
   "source": [
    "runs[\"Max Speed (mph)\"].hist()"
   ]
  },
  {
   "cell_type": "markdown",
   "id": "26d242a4",
   "metadata": {},
   "source": [
    "#### Elevation Gain (ft)"
   ]
  },
  {
   "cell_type": "code",
   "execution_count": 96,
   "id": "2492e89f",
   "metadata": {},
   "outputs": [
    {
     "data": {
      "text/plain": [
       "<AxesSubplot:>"
      ]
     },
     "execution_count": 96,
     "metadata": {},
     "output_type": "execute_result"
    },
    {
     "data": {
      "image/png": "[encoded data removed]",
      "text/plain": [
       "<Figure size 432x288 with 1 Axes>"
      ]
     },
     "metadata": {
      "needs_background": "light"
     },
     "output_type": "display_data"
    }
   ],
   "source": [
    "runs[\"Elevation Gain (ft)\"].hist()"
   ]
  },
  {
   "cell_type": "markdown",
   "id": "8c0bf88e",
   "metadata": {},
   "source": [
    "#### Elevation Loss (ft)"
   ]
  },
  {
   "cell_type": "code",
   "execution_count": 97,
   "id": "59f9c454",
   "metadata": {},
   "outputs": [
    {
     "data": {
      "text/plain": [
       "<AxesSubplot:>"
      ]
     },
     "execution_count": 97,
     "metadata": {},
     "output_type": "execute_result"
    },
    {
     "data": {
      "image/png": "[encoded data removed]",
      "text/plain": [
       "<Figure size 432x288 with 1 Axes>"
      ]
     },
     "metadata": {
      "needs_background": "light"
     },
     "output_type": "display_data"
    }
   ],
   "source": [
    "runs[\"Elevation Loss (ft)\"].hist()"
   ]
  },
  {
   "cell_type": "markdown",
   "id": "fd8212c6",
   "metadata": {},
   "source": [
    "#### Elevation Low (ft)"
   ]
  },
  {
   "cell_type": "code",
   "execution_count": 98,
   "id": "4835b58f",
   "metadata": {},
   "outputs": [
    {
     "data": {
      "text/plain": [
       "<AxesSubplot:>"
      ]
     },
     "execution_count": 98,
     "metadata": {},
     "output_type": "execute_result"
    },
    {
     "data": {
      "image/png": "[encoded data removed]",
      "text/plain": [
       "<Figure size 432x288 with 1 Axes>"
      ]
     },
     "metadata": {
      "needs_background": "light"
     },
     "output_type": "display_data"
    }
   ],
   "source": [
    "runs[\"Elevation Low (ft)\"].hist()"
   ]
  },
  {
   "cell_type": "markdown",
   "id": "0648e258",
   "metadata": {},
   "source": [
    "#### Elevation High (ft)"
   ]
  },
  {
   "cell_type": "code",
   "execution_count": 99,
   "id": "3d1e6854",
   "metadata": {},
   "outputs": [
    {
     "data": {
      "text/plain": [
       "<AxesSubplot:>"
      ]
     },
     "execution_count": 99,
     "metadata": {},
     "output_type": "execute_result"
    },
    {
     "data": {
      "image/png": "[encoded data removed]",
      "text/plain": [
       "<Figure size 432x288 with 1 Axes>"
      ]
     },
     "metadata": {
      "needs_background": "light"
     },
     "output_type": "display_data"
    }
   ],
   "source": [
    "runs[\"Elevation High (ft)\"].hist()"
   ]
  },
  {
   "cell_type": "markdown",
   "id": "ae8c6996",
   "metadata": {},
   "source": [
    "Elevation Low and High both have an outlier. Value will be retained in dataset as high elevation runs are possible. "
   ]
  },
  {
   "cell_type": "markdown",
   "id": "473e9ddd",
   "metadata": {},
   "source": [
    "#### Hour of Day"
   ]
  },
  {
   "cell_type": "code",
   "execution_count": 100,
   "id": "16e11c23",
   "metadata": {},
   "outputs": [
    {
     "data": {
      "text/plain": [
       "<AxesSubplot:>"
      ]
     },
     "execution_count": 100,
     "metadata": {},
     "output_type": "execute_result"
    },
    {
     "data": {
      "image/png": "[encoded data removed]",
      "text/plain": [
       "<Figure size 432x288 with 1 Axes>"
      ]
     },
     "metadata": {
      "needs_background": "light"
     },
     "output_type": "display_data"
    }
   ],
   "source": [
    "runs[\"Hour of Day\"].hist()"
   ]
  },
  {
   "cell_type": "markdown",
   "id": "46e7932b",
   "metadata": {},
   "source": [
    "A little bit of bimodality - most of my runs are in the afternoon and evening as seen in the biggest hump on the right. A smaller hump at left represents morning runs which happen with less frequency."
   ]
  },
  {
   "cell_type": "markdown",
   "id": "92038bde",
   "metadata": {},
   "source": [
    "#### Rest Hours"
   ]
  },
  {
   "cell_type": "code",
   "execution_count": 101,
   "id": "51e6da8a",
   "metadata": {},
   "outputs": [
    {
     "data": {
      "text/plain": [
       "<AxesSubplot:>"
      ]
     },
     "execution_count": 101,
     "metadata": {},
     "output_type": "execute_result"
    },
    {
     "data": {
      "image/png": "[encoded data removed]",
      "text/plain": [
       "<Figure size 432x288 with 1 Axes>"
      ]
     },
     "metadata": {
      "needs_background": "light"
     },
     "output_type": "display_data"
    }
   ],
   "source": [
    "runs[\"Rest Hours\"].hist()"
   ]
  },
  {
   "cell_type": "markdown",
   "id": "085e5bd2",
   "metadata": {},
   "source": [
    "Strong skew present with about 350 hours of rest (~14 days) as the maximum. Values above 168 hours (1 week) will be replaced by the median. Rest hours are being included to examine how my body is bouncing back, but time after 1 week likely stems from injury recovery or designed time off."
   ]
  },
  {
   "cell_type": "code",
   "execution_count": 102,
   "id": "9ec0c98e",
   "metadata": {},
   "outputs": [],
   "source": [
    "median = runs.loc[runs[\"Rest Hours\"] < 168, \"Rest Hours\"].median()\n",
    "runs[\"Rest Hours\"] = runs[\"Rest Hours\"].mask(runs[\"Rest Hours\"] > 168, median)"
   ]
  },
  {
   "cell_type": "code",
   "execution_count": 103,
   "id": "3c43bddb",
   "metadata": {},
   "outputs": [
    {
     "data": {
      "text/plain": [
       "<AxesSubplot:>"
      ]
     },
     "execution_count": 103,
     "metadata": {},
     "output_type": "execute_result"
    },
    {
     "data": {
      "image/png": "[encoded data removed]",
      "text/plain": [
       "<Figure size 432x288 with 1 Axes>"
      ]
     },
     "metadata": {
      "needs_background": "light"
     },
     "output_type": "display_data"
    }
   ],
   "source": [
    "runs[\"Rest Hours\"].hist()"
   ]
  },
  {
   "cell_type": "markdown",
   "id": "cae15d68",
   "metadata": {},
   "source": [
    "### Checking for Null Values"
   ]
  },
  {
   "cell_type": "code",
   "execution_count": 104,
   "id": "70d467a9",
   "metadata": {},
   "outputs": [
    {
     "data": {
      "text/plain": [
       "Max Grade               0\n",
       "Average Grade           0\n",
       "Average Cadence        12\n",
       "Distance (mi)           0\n",
       "Max Speed (mph)         0\n",
       "Average Speed (mph)     0\n",
       "Elevation Gain (ft)     0\n",
       "Elevation Loss (ft)     0\n",
       "Elevation Low (ft)      0\n",
       "Elevation High (ft)     0\n",
       "Hour of Day             0\n",
       "Rest Hours              1\n",
       "dtype: int64"
      ]
     },
     "execution_count": 104,
     "metadata": {},
     "output_type": "execute_result"
    }
   ],
   "source": [
    "runs.isnull().sum()"
   ]
  },
  {
   "cell_type": "markdown",
   "id": "d1c0edc9",
   "metadata": {},
   "source": [
    "### Replacing Null Values with Variable Medians"
   ]
  },
  {
   "cell_type": "code",
   "execution_count": 105,
   "id": "0108fea6",
   "metadata": {},
   "outputs": [],
   "source": [
    "null_medians = runs[[\"Average Cadence\", \"Rest Hours\"]].median()\n",
    "runs[[\"Average Cadence\", \"Rest Hours\"]] = runs[[\"Average Cadence\", \"Rest Hours\"]].fillna(null_medians)"
   ]
  },
  {
   "cell_type": "code",
   "execution_count": 106,
   "id": "a8d1e1e3",
   "metadata": {},
   "outputs": [
    {
     "data": {
      "text/plain": [
       "Max Grade              0\n",
       "Average Grade          0\n",
       "Average Cadence        0\n",
       "Distance (mi)          0\n",
       "Max Speed (mph)        0\n",
       "Average Speed (mph)    0\n",
       "Elevation Gain (ft)    0\n",
       "Elevation Loss (ft)    0\n",
       "Elevation Low (ft)     0\n",
       "Elevation High (ft)    0\n",
       "Hour of Day            0\n",
       "Rest Hours             0\n",
       "dtype: int64"
      ]
     },
     "execution_count": 106,
     "metadata": {},
     "output_type": "execute_result"
    }
   ],
   "source": [
    "runs.isnull().sum()"
   ]
  },
  {
   "cell_type": "markdown",
   "id": "7ad6cf9a",
   "metadata": {},
   "source": [
    "### Correlation"
   ]
  },
  {
   "cell_type": "code",
   "execution_count": 107,
   "id": "74bb5083",
   "metadata": {},
   "outputs": [
    {
     "data": {
      "text/plain": [
       "<AxesSubplot:>"
      ]
     },
     "execution_count": 107,
     "metadata": {},
     "output_type": "execute_result"
    },
    {
     "data": {
      "image/png": "[encoded data removed]",
      "text/plain": [
       "<Figure size 864x864 with 2 Axes>"
      ]
     },
     "metadata": {
      "needs_background": "light"
     },
     "output_type": "display_data"
    }
   ],
   "source": [
    "plt.figure(figsize=(12,12))\n",
    "sns.heatmap(runs.drop([\"Average Speed (mph)\"], axis=1).corr())"
   ]
  },
  {
   "cell_type": "markdown",
   "id": "256467a7",
   "metadata": {},
   "source": [
    "Source: https://medium.com/@szabo.bibor/how-to-create-a-seaborn-correlation-heatmap-in-python-834c0686b88e"
   ]
  },
  {
   "cell_type": "code",
   "execution_count": 108,
   "id": "22385e85",
   "metadata": {},
   "outputs": [
    {
     "data": {
      "text/plain": [
       "Text(0.5, 1.0, 'Features Correlating with Average Speed (mph)')"
      ]
     },
     "execution_count": 108,
     "metadata": {},
     "output_type": "execute_result"
    },
    {
     "data": {
      "image/png": "[encoded data removed]",
      "text/plain": [
       "<Figure size 576x864 with 2 Axes>"
      ]
     },
     "metadata": {
      "needs_background": "light"
     },
     "output_type": "display_data"
    }
   ],
   "source": [
    "plt.figure(figsize=(8,12))\n",
    "heatmap = sns.heatmap(runs.corr()[[\"Average Speed (mph)\"]].sort_values(by=\"Average Speed (mph)\", ascending=False), vmin=-1, vmax=1, annot=True, cmap=\"BrBG\")\n",
    "heatmap.set_title(\"Features Correlating with Average Speed (mph)\",\n",
    "                 fontdict={'fontsize': 18}, pad=16)"
   ]
  },
  {
   "cell_type": "markdown",
   "id": "ac5c5e57",
   "metadata": {},
   "source": [
    "Average Cadence, Max Speed (mph), Elevation Gain, and Distance (mi) are all reasonably correlated with Average Speed (mph). Since a neural network is being used, multicollinearity won't be checked even though some predictors are correlated with one another."
   ]
  },
  {
   "cell_type": "markdown",
   "id": "ca741932",
   "metadata": {},
   "source": [
    "### Exporting as CSV"
   ]
  },
  {
   "cell_type": "code",
   "execution_count": 109,
   "id": "65284499",
   "metadata": {},
   "outputs": [],
   "source": [
    "runs.to_csv(\"runs_cleaned.csv\", index=False)"
   ]
  }
 ],
 "metadata": {
  "kernelspec": {
   "display_name": "Python 3 (ipykernel)",
   "language": "python",
   "name": "python3"
  },
  "language_info": {
   "codemirror_mode": {
    "name": "ipython",
    "version": 3
   },
   "file_extension": ".py",
   "mimetype": "text/x-python",
   "name": "python",
   "nbconvert_exporter": "python",
   "pygments_lexer": "ipython3",
   "version": "3.9.7"
  }
 },
 "nbformat": 4,
 "nbformat_minor": 5
}
