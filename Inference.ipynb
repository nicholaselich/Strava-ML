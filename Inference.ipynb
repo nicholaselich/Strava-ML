{
 "cells": [
  {
   "cell_type": "markdown",
   "id": "6606f959",
   "metadata": {},
   "source": [
    "## Inference"
   ]
  },
  {
   "cell_type": "markdown",
   "id": "8a88f56b",
   "metadata": {},
   "source": [
    "### Packages"
   ]
  },
  {
   "cell_type": "code",
   "execution_count": 14,
   "id": "00906fcd",
   "metadata": {},
   "outputs": [],
   "source": [
    "import torch\n",
    "import numpy as np\n",
    "import pandas as pd\n",
    "import joblib\n",
    "\n",
    "from sklearn.preprocessing import StandardScaler"
   ]
  },
  {
   "cell_type": "markdown",
   "id": "a753006d",
   "metadata": {},
   "source": [
    "### Importing the Model"
   ]
  },
  {
   "cell_type": "code",
   "execution_count": 13,
   "id": "ea935d9e",
   "metadata": {},
   "outputs": [
    {
     "data": {
      "text/plain": [
       "Sequential(\n",
       "  (0): Linear(in_features=7, out_features=24, bias=True)\n",
       "  (1): ReLU()\n",
       "  (2): Linear(in_features=24, out_features=16, bias=True)\n",
       "  (3): ReLU()\n",
       "  (4): Linear(in_features=16, out_features=6, bias=True)\n",
       "  (5): ReLU()\n",
       "  (6): Linear(in_features=6, out_features=1, bias=True)\n",
       ")"
      ]
     },
     "execution_count": 13,
     "metadata": {},
     "output_type": "execute_result"
    }
   ],
   "source": [
    "model = torch.load(\"model_complete.pth\")\n",
    "model.eval()"
   ]
  },
  {
   "cell_type": "markdown",
   "id": "4bd106ad",
   "metadata": {},
   "source": [
    "### Race Prediction"
   ]
  },
  {
   "cell_type": "markdown",
   "id": "7fefe4bf",
   "metadata": {},
   "source": [
    "#### 10k Turkey Trot\n",
    "- Max Grade: 0.0013\n",
    "- Average Cadence: 170\n",
    "- Distance (mi): 6.2\n",
    "- Max Speed (mph): 12\n",
    "- Elevation Gain (ft): 43\n",
    "- Elevation High (ft): 102\n",
    "- Rest Hours: 36\n",
    "\n",
    "*Using the saved scaler object that was fit on the training data*"
   ]
  },
  {
   "cell_type": "code",
   "execution_count": 21,
   "id": "bc98effd",
   "metadata": {},
   "outputs": [
    {
     "data": {
      "text/plain": [
       "tensor([[-1.3484, 40.1209,  0.2967,  0.1542, -1.0593, -0.8138, -0.4192]])"
      ]
     },
     "execution_count": 21,
     "metadata": {},
     "output_type": "execute_result"
    }
   ],
   "source": [
    "scaler = joblib.load('scaler.pkl')\n",
    "\n",
    "inputs = np.array([[0.0013, 170, 6.2, 12, 43, 102, 36]])\n",
    "inputs = scaler.transform(inputs)\n",
    "inputs = torch.tensor(inputs, dtype=torch.float32)\n",
    "inputs"
   ]
  },
  {
   "cell_type": "markdown",
   "id": "0461a84d",
   "metadata": {},
   "source": [
    "### Prediction"
   ]
  },
  {
   "cell_type": "code",
   "execution_count": 27,
   "id": "d4431e79",
   "metadata": {},
   "outputs": [
    {
     "name": "stdout",
     "output_type": "stream",
     "text": [
      "44.52577 Minutes\n"
     ]
    }
   ],
   "source": [
    "model.eval()\n",
    "\n",
    "with torch.no_grad():\n",
    "    prediction = model(inputs)\n",
    "    \n",
    "print(prediction.numpy()[0][0], \"Minutes\")"
   ]
  },
  {
   "cell_type": "markdown",
   "id": "bc255e12",
   "metadata": {},
   "source": [
    "I'd expect that, after following my training plan, my race pace will be about *15% faster* than my training run pace. \n",
    "\n",
    "#### 44.52577 minutes * 0.85 = 37.76190 minutes\n",
    "\n",
    "#### 37.76190 minutes / 6.2 miles = 6.09063 minutes/mile"
   ]
  },
  {
   "cell_type": "markdown",
   "id": "ea9c4443",
   "metadata": {},
   "source": [
    "## Final Prediction: 6.09 minutes/mile\n",
    "    \n",
    "Let's check back in November and see how I do!"
   ]
  }
 ],
 "metadata": {
  "kernelspec": {
   "display_name": "Python 3 (ipykernel)",
   "language": "python",
   "name": "python3"
  },
  "language_info": {
   "codemirror_mode": {
    "name": "ipython",
    "version": 3
   },
   "file_extension": ".py",
   "mimetype": "text/x-python",
   "name": "python",
   "nbconvert_exporter": "python",
   "pygments_lexer": "ipython3",
   "version": "3.9.7"
  }
 },
 "nbformat": 4,
 "nbformat_minor": 5
}
