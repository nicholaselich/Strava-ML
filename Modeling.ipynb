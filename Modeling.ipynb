{
 "cells": [
  {
   "cell_type": "markdown",
   "id": "4bae4614",
   "metadata": {},
   "source": [
    "## Modeling"
   ]
  },
  {
   "cell_type": "markdown",
   "id": "4723f462",
   "metadata": {},
   "source": [
    "Source: https://www.datacamp.com/tutorial/pytorch-tutorial-building-a-simple-neural-network-from-scratch"
   ]
  },
  {
   "cell_type": "markdown",
   "id": "6e308ef0",
   "metadata": {},
   "source": [
    "### Packages"
   ]
  },
  {
   "cell_type": "code",
   "execution_count": 2,
   "id": "dee59072",
   "metadata": {},
   "outputs": [],
   "source": [
    "import pandas as pd\n",
    "import matplotlib.pyplot as plt\n",
    "import numpy as np\n",
    "import torch\n",
    "import joblib\n",
    "\n",
    "from torch.utils.data import Dataset, DataLoader\n",
    "from torch import nn\n",
    "from torch import optim\n",
    "from sklearn.preprocessing import StandardScaler\n",
    "from sklearn.model_selection import train_test_split\n",
    "from sklearn.metrics import mean_squared_error, mean_absolute_error"
   ]
  },
  {
   "cell_type": "markdown",
   "id": "a296c33a",
   "metadata": {},
   "source": [
    "### Data"
   ]
  },
  {
   "cell_type": "markdown",
   "id": "844e962c",
   "metadata": {},
   "source": [
    "Reducing model complexity by dropping three predictors least correlated with Average Speed"
   ]
  },
  {
   "cell_type": "code",
   "execution_count": 3,
   "id": "ea409f8a",
   "metadata": {},
   "outputs": [
    {
     "data": {
      "text/html": [
       "<div>\n",
       "<style scoped>\n",
       "    .dataframe tbody tr th:only-of-type {\n",
       "        vertical-align: middle;\n",
       "    }\n",
       "\n",
       "    .dataframe tbody tr th {\n",
       "        vertical-align: top;\n",
       "    }\n",
       "\n",
       "    .dataframe thead th {\n",
       "        text-align: right;\n",
       "    }\n",
       "</style>\n",
       "<table border=\"1\" class=\"dataframe\">\n",
       "  <thead>\n",
       "    <tr style=\"text-align: right;\">\n",
       "      <th></th>\n",
       "      <th>Max Grade</th>\n",
       "      <th>Average Cadence</th>\n",
       "      <th>Distance (mi)</th>\n",
       "      <th>Max Speed (mph)</th>\n",
       "      <th>Average Speed (mph)</th>\n",
       "      <th>Elevation Gain (ft)</th>\n",
       "      <th>Elevation High (ft)</th>\n",
       "      <th>Rest Hours</th>\n",
       "    </tr>\n",
       "  </thead>\n",
       "  <tbody>\n",
       "    <tr>\n",
       "      <th>0</th>\n",
       "      <td>7.370569</td>\n",
       "      <td>85.641602</td>\n",
       "      <td>4.996892</td>\n",
       "      <td>11.667214</td>\n",
       "      <td>8.079084</td>\n",
       "      <td>204.800014</td>\n",
       "      <td>394.37619</td>\n",
       "      <td>44.851111</td>\n",
       "    </tr>\n",
       "    <tr>\n",
       "      <th>1</th>\n",
       "      <td>18.241413</td>\n",
       "      <td>83.782791</td>\n",
       "      <td>8.098198</td>\n",
       "      <td>17.090331</td>\n",
       "      <td>7.100995</td>\n",
       "      <td>745.661169</td>\n",
       "      <td>951.16188</td>\n",
       "      <td>38.643333</td>\n",
       "    </tr>\n",
       "    <tr>\n",
       "      <th>2</th>\n",
       "      <td>7.689279</td>\n",
       "      <td>88.927971</td>\n",
       "      <td>3.996271</td>\n",
       "      <td>10.451713</td>\n",
       "      <td>7.975116</td>\n",
       "      <td>182.882946</td>\n",
       "      <td>394.37619</td>\n",
       "      <td>81.803333</td>\n",
       "    </tr>\n",
       "    <tr>\n",
       "      <th>3</th>\n",
       "      <td>6.325908</td>\n",
       "      <td>87.573807</td>\n",
       "      <td>3.101305</td>\n",
       "      <td>10.741350</td>\n",
       "      <td>8.461270</td>\n",
       "      <td>62.667101</td>\n",
       "      <td>385.51750</td>\n",
       "      <td>23.407222</td>\n",
       "    </tr>\n",
       "    <tr>\n",
       "      <th>4</th>\n",
       "      <td>4.724410</td>\n",
       "      <td>83.935760</td>\n",
       "      <td>3.095090</td>\n",
       "      <td>10.255405</td>\n",
       "      <td>8.626942</td>\n",
       "      <td>87.799561</td>\n",
       "      <td>384.86131</td>\n",
       "      <td>142.904722</td>\n",
       "    </tr>\n",
       "  </tbody>\n",
       "</table>\n",
       "</div>"
      ],
      "text/plain": [
       "   Max Grade  Average Cadence  Distance (mi)  Max Speed (mph)  \\\n",
       "0   7.370569        85.641602       4.996892        11.667214   \n",
       "1  18.241413        83.782791       8.098198        17.090331   \n",
       "2   7.689279        88.927971       3.996271        10.451713   \n",
       "3   6.325908        87.573807       3.101305        10.741350   \n",
       "4   4.724410        83.935760       3.095090        10.255405   \n",
       "\n",
       "   Average Speed (mph)  Elevation Gain (ft)  Elevation High (ft)  Rest Hours  \n",
       "0             8.079084           204.800014            394.37619   44.851111  \n",
       "1             7.100995           745.661169            951.16188   38.643333  \n",
       "2             7.975116           182.882946            394.37619   81.803333  \n",
       "3             8.461270            62.667101            385.51750   23.407222  \n",
       "4             8.626942            87.799561            384.86131  142.904722  "
      ]
     },
     "execution_count": 3,
     "metadata": {},
     "output_type": "execute_result"
    }
   ],
   "source": [
    "df = pd.read_csv(\"/Users/nicholas.elich/STRAVA_ML/runs_cleaned.csv\")\n",
    "df.drop([\"Elevation Low (ft)\", \"Average Grade\", \"Hour of Day\", \"Elevation Loss (ft)\"], axis=1, inplace=True)\n",
    "df.head()"
   ]
  },
  {
   "cell_type": "markdown",
   "id": "fa848221",
   "metadata": {},
   "source": [
    "### Train/Test Split"
   ]
  },
  {
   "cell_type": "code",
   "execution_count": 4,
   "id": "daa07e25",
   "metadata": {},
   "outputs": [],
   "source": [
    "y = df[\"Average Speed (mph)\"]\n",
    "df.drop([\"Average Speed (mph)\"], axis=1, inplace=True)\n",
    "X = df"
   ]
  },
  {
   "cell_type": "code",
   "execution_count": 5,
   "id": "09ad1836",
   "metadata": {},
   "outputs": [],
   "source": [
    "X_train, X_test, y_train, y_test = train_test_split(X, y, train_size = 0.7, random_state=30)"
   ]
  },
  {
   "cell_type": "code",
   "execution_count": 6,
   "id": "14d94e24",
   "metadata": {},
   "outputs": [
    {
     "name": "stdout",
     "output_type": "stream",
     "text": [
      "X Train: (173, 7)\n",
      "X Test: (75, 7)\n",
      "Y Train: (173,)\n",
      "Y Test: (75,)\n"
     ]
    }
   ],
   "source": [
    "print(\"X Train:\", X_train.shape)\n",
    "print(\"X Test:\", X_test.shape)\n",
    "print(\"Y Train:\", y_train.shape)\n",
    "print(\"Y Test:\", y_test.shape)"
   ]
  },
  {
   "cell_type": "markdown",
   "id": "6dee8aa1",
   "metadata": {},
   "source": [
    "### Standardizing"
   ]
  },
  {
   "cell_type": "code",
   "execution_count": 7,
   "id": "81b622f7",
   "metadata": {},
   "outputs": [],
   "source": [
    "scaler = StandardScaler()\n",
    "scaler.fit(X_train)\n",
    "joblib.dump(scaler, 'scaler.pkl')\n",
    "X_train = pd.DataFrame(scaler.transform(X_train), columns=X.columns)\n",
    "X_test = pd.DataFrame(scaler.transform(X_test), columns=X.columns)"
   ]
  },
  {
   "cell_type": "markdown",
   "id": "7c76ae4d",
   "metadata": {},
   "source": [
    "### Data Processing and Instantiation"
   ]
  },
  {
   "cell_type": "code",
   "execution_count": 8,
   "id": "7c4628fc",
   "metadata": {},
   "outputs": [],
   "source": [
    "class Data(Dataset):\n",
    "    def __init__(self, X, y):\n",
    "        self.X = torch.tensor(X.values)\n",
    "        self.y = torch.tensor(y.values)\n",
    "        self.len = self.X.shape[0]\n",
    "        \n",
    "    def __getitem__(self, index):\n",
    "        return self.X[index], self.y[index]\n",
    "\n",
    "    def __len__(self):\n",
    "        return self.len"
   ]
  },
  {
   "cell_type": "code",
   "execution_count": 9,
   "id": "ef777e25",
   "metadata": {},
   "outputs": [],
   "source": [
    "batch_size = 20\n",
    "\n",
    "train_data = Data(X_train, y_train)\n",
    "train_dataloader = DataLoader(dataset=train_data, \n",
    "                              batch_size = batch_size, \n",
    "                              shuffle=True)\n",
    "\n",
    "test_data = Data(X_test, y_test)\n",
    "test_dataloader = DataLoader(dataset=test_data,\n",
    "                            batch_size = batch_size,\n",
    "                            shuffle=True)"
   ]
  },
  {
   "cell_type": "code",
   "execution_count": 10,
   "id": "f4e46767",
   "metadata": {},
   "outputs": [
    {
     "name": "stdout",
     "output_type": "stream",
     "text": [
      "Batch: 1\n",
      "X shape: torch.Size([20, 7])\n",
      "y shape: torch.Size([20])\n"
     ]
    }
   ],
   "source": [
    "for batch, (X, y) in enumerate(train_dataloader):\n",
    "    print(f\"Batch: {batch+1}\")\n",
    "    print(f\"X shape: {X.shape}\")\n",
    "    print(f\"y shape: {y.shape}\")\n",
    "    break"
   ]
  },
  {
   "cell_type": "markdown",
   "id": "03b8205f",
   "metadata": {},
   "source": [
    "### Initial Model"
   ]
  },
  {
   "cell_type": "markdown",
   "id": "1f2a3908",
   "metadata": {},
   "source": [
    "- Input Layer: 7 Features --> 7 Nodes\n",
    "- Hidden Layer: Mean of neurons in input and output layers --> 4 Nodes\n",
    "- Output Layer: Regressor --> 1 Node"
   ]
  },
  {
   "cell_type": "code",
   "execution_count": 11,
   "id": "8d19887e",
   "metadata": {},
   "outputs": [],
   "source": [
    "model = nn.Sequential(nn.Linear(7, 4),\n",
    "                      nn.ReLU(),\n",
    "                      nn.Linear(4, 4),\n",
    "                      nn.ReLU(),\n",
    "                      nn.Linear(4, 1))\n",
    "loss_func = nn.MSELoss()\n",
    "optimizer = optim.Adam(model.parameters(), lr=0.0001)"
   ]
  },
  {
   "cell_type": "code",
   "execution_count": 12,
   "id": "08597a47",
   "metadata": {},
   "outputs": [
    {
     "name": "stdout",
     "output_type": "stream",
     "text": [
      "Training Complete\n"
     ]
    }
   ],
   "source": [
    "num_epochs = 100\n",
    "loss_values = []\n",
    "training_loss = [] #\n",
    "\n",
    "for epoch in range(num_epochs):\n",
    "    temp = [] #\n",
    "    for X, y in train_dataloader:\n",
    "        optimizer.zero_grad()\n",
    "        \n",
    "        X = X.float()\n",
    "        y = y.float()\n",
    "        \n",
    "        pred = model(X)\n",
    "        loss = loss_func(pred, y.unsqueeze(-1))\n",
    "        loss_values.append(loss.item())\n",
    "        temp.append(loss.item()) # \n",
    "        loss.backward()\n",
    "        optimizer.step()\n",
    "    training_loss.append(sum(temp)/len(temp)) #\n",
    "print(\"Training Complete\")"
   ]
  },
  {
   "cell_type": "markdown",
   "id": "febfb6c7",
   "metadata": {},
   "source": [
    "### Visualizing Loss"
   ]
  },
  {
   "cell_type": "code",
   "execution_count": 13,
   "id": "7d7c7734",
   "metadata": {},
   "outputs": [
    {
     "data": {
      "image/png": "[encoded data removed]",
      "text/plain": [
       "<Figure size 576x360 with 1 Axes>"
      ]
     },
     "metadata": {
      "needs_background": "light"
     },
     "output_type": "display_data"
    }
   ],
   "source": [
    "step = np.linspace(0, 100, 900)\n",
    "\n",
    "fig, ax = plt.subplots(figsize=(8,5))\n",
    "plt.plot(step, np.array(loss_values), color=\"blue\")\n",
    "plt.plot(np.array(training_loss), color=\"darkorange\", linewidth=3)\n",
    "plt.title(\"Training Loss by Epoch\")\n",
    "plt.xlabel(\"Epoch\")\n",
    "plt.ylabel(\"Loss\")\n",
    "plt.show()"
   ]
  },
  {
   "cell_type": "markdown",
   "id": "3bd64678",
   "metadata": {},
   "source": [
    "### Inference/Predictions"
   ]
  },
  {
   "cell_type": "code",
   "execution_count": 14,
   "id": "d4a60f4d",
   "metadata": {},
   "outputs": [],
   "source": [
    "model.eval()\n",
    "\n",
    "predictions = []\n",
    "true_values = []\n",
    "\n",
    "with torch.no_grad():\n",
    "    for X, y in test_dataloader:\n",
    "        \n",
    "        X = X.float()\n",
    "        y = y.float()\n",
    "        \n",
    "        outputs = model(X)\n",
    "        predictions.append(outputs.numpy())\n",
    "        true_values.append(y.unsqueeze(-1).numpy())"
   ]
  },
  {
   "cell_type": "code",
   "execution_count": 15,
   "id": "399c9391",
   "metadata": {},
   "outputs": [],
   "source": [
    "predictions = np.concatenate(predictions)\n",
    "true_values = np.concatenate(true_values)"
   ]
  },
  {
   "cell_type": "code",
   "execution_count": 16,
   "id": "06b5c6f6",
   "metadata": {},
   "outputs": [
    {
     "name": "stdout",
     "output_type": "stream",
     "text": [
      "MSE: 53.32062530517578, MAE: 7.269359588623047, RMSE: 7.302097320556641\n"
     ]
    }
   ],
   "source": [
    "mse = mean_squared_error(true_values, predictions)\n",
    "mae = mean_absolute_error(true_values, predictions)\n",
    "rmse = np.sqrt(mse)\n",
    "\n",
    "print(f\"MSE: {mse}, MAE: {mae}, RMSE: {rmse}\")"
   ]
  },
  {
   "cell_type": "markdown",
   "id": "c2193609",
   "metadata": {},
   "source": [
    "### Improving the Model"
   ]
  },
  {
   "cell_type": "markdown",
   "id": "2df56281",
   "metadata": {},
   "source": [
    "Large training loss indicates opportunity for improvement in the model\n",
    "\n",
    "- Adding an additional hidden layer and increasing the number of neurons in the layers\n",
    "- Increasing the learning rate"
   ]
  },
  {
   "cell_type": "code",
   "execution_count": 17,
   "id": "a7ceecbd",
   "metadata": {},
   "outputs": [],
   "source": [
    "model = nn.Sequential(nn.Linear(7, 24),\n",
    "                      nn.ReLU(),\n",
    "                      nn.Linear(24, 16),\n",
    "                      nn.ReLU(),\n",
    "                      nn.Linear(16, 6),\n",
    "                      nn.ReLU(),\n",
    "                      nn.Linear(6, 1))\n",
    "loss_func = nn.MSELoss()\n",
    "optimizer = optim.Adam(model.parameters(), lr=0.001)"
   ]
  },
  {
   "cell_type": "code",
   "execution_count": 18,
   "id": "4400c4c7",
   "metadata": {},
   "outputs": [
    {
     "name": "stdout",
     "output_type": "stream",
     "text": [
      "Training Complete\n"
     ]
    }
   ],
   "source": [
    "num_epochs = 100\n",
    "\n",
    "loss_values = []\n",
    "training_loss = []\n",
    "validation_loss = []\n",
    "\n",
    "for epoch in range(num_epochs):\n",
    "    \n",
    "    # TRAINING\n",
    "    model.train()\n",
    "    temp_train = []\n",
    "    for X, y in train_dataloader:\n",
    "        optimizer.zero_grad()\n",
    "        \n",
    "        X = X.float()\n",
    "        y = y.float()\n",
    "        \n",
    "        pred = model(X)\n",
    "        loss = loss_func(pred, y.unsqueeze(-1))\n",
    "        loss_values.append(loss.item())\n",
    "        temp_train.append(loss.item())\n",
    "        loss.backward()\n",
    "        optimizer.step()\n",
    "    training_loss.append(sum(temp_train)/len(temp_train))\n",
    "    \n",
    "    # VALIDATION\n",
    "    model.eval()\n",
    "    temp_val = []\n",
    "    with torch.no_grad():\n",
    "        for X, y in test_dataloader:\n",
    "            X = X.float()\n",
    "            y = y.float()\n",
    "\n",
    "            outputs = model(X)\n",
    "\n",
    "            loss = loss_func(outputs, y.unsqueeze(-1))\n",
    "            temp_val.append(loss.item())\n",
    "        validation_loss.append(sum(temp_val)/len(temp_val))\n",
    "\n",
    "print(\"Training Complete\")"
   ]
  },
  {
   "cell_type": "markdown",
   "id": "69128980",
   "metadata": {},
   "source": [
    "### Visualizing Loss"
   ]
  },
  {
   "cell_type": "code",
   "execution_count": 19,
   "id": "4df4ab7f",
   "metadata": {
    "scrolled": false
   },
   "outputs": [
    {
     "data": {
      "image/png": "[encoded data removed]",
      "text/plain": [
       "<Figure size 648x432 with 1 Axes>"
      ]
     },
     "metadata": {
      "needs_background": "light"
     },
     "output_type": "display_data"
    }
   ],
   "source": [
    "step = np.linspace(0, 100, 900)\n",
    "\n",
    "fig, ax = plt.subplots(figsize=(9, 6))\n",
    "plt.plot(step, np.array(loss_values))\n",
    "plt.plot(np.array(training_loss), color=\"orangered\")\n",
    "plt.title(\"Training Loss by Epoch\")\n",
    "plt.xlabel(\"Epoch\")\n",
    "plt.ylabel(\"Loss\")\n",
    "plt.show()"
   ]
  },
  {
   "cell_type": "markdown",
   "id": "dcece603",
   "metadata": {},
   "source": [
    "### Checking Overfitting"
   ]
  },
  {
   "cell_type": "code",
   "execution_count": 20,
   "id": "6778650c",
   "metadata": {},
   "outputs": [
    {
     "data": {
      "image/png": "[encoded data removed]",
      "text/plain": [
       "<Figure size 648x432 with 1 Axes>"
      ]
     },
     "metadata": {
      "needs_background": "light"
     },
     "output_type": "display_data"
    }
   ],
   "source": [
    "step = np.linspace(0, 100, 100)\n",
    "\n",
    "fig, ax = plt.subplots(figsize=(9, 6))\n",
    "plt.plot(step, np.array(training_loss))\n",
    "plt.plot(step, np.array(validation_loss), color=\"darkorange\")\n",
    "plt.title(\"Training and Validation Loss by Epoch\")\n",
    "plt.xlabel(\"Epoch\")\n",
    "plt.ylabel(\"Loss\")\n",
    "plt.show()"
   ]
  },
  {
   "cell_type": "markdown",
   "id": "20683be3",
   "metadata": {},
   "source": [
    "Initially, the training loss continued to decrease, while the validation loss started to increase which indicated overfitting. The changes below produced the above graph:\n",
    "\n",
    "- Introduction of additional layer and neurons within the layer\n",
    "- Increase of learning rate\n",
    "- Reducing model complexity by dropping predictors\n",
    "\n",
    "With the changes, the training and validation loss converges as desired and appears to be a good model fit. "
   ]
  },
  {
   "cell_type": "markdown",
   "id": "2f54edf2",
   "metadata": {},
   "source": [
    "### Model Evaluation"
   ]
  },
  {
   "cell_type": "code",
   "execution_count": 21,
   "id": "d208b61e",
   "metadata": {},
   "outputs": [],
   "source": [
    "model.eval()\n",
    "\n",
    "predictions = []\n",
    "true_values = []\n",
    "validation_loss = [] #\n",
    "\n",
    "with torch.no_grad():\n",
    "    for X, y in test_dataloader:\n",
    "        \n",
    "        X = X.float()\n",
    "        y = y.float()\n",
    "        \n",
    "        outputs = model(X)\n",
    "        predictions.append(outputs.numpy())\n",
    "        true_values.append(y.unsqueeze(-1).numpy())\n",
    "        \n",
    "        loss = loss_func(outputs, y.unsqueeze(-1)) #\n",
    "        validation_loss.append(loss.item()) #"
   ]
  },
  {
   "cell_type": "code",
   "execution_count": 22,
   "id": "501be6a7",
   "metadata": {},
   "outputs": [],
   "source": [
    "predictions = np.concatenate(predictions)\n",
    "true_values = np.concatenate(true_values)"
   ]
  },
  {
   "cell_type": "code",
   "execution_count": 23,
   "id": "aea43dc6",
   "metadata": {},
   "outputs": [
    {
     "name": "stdout",
     "output_type": "stream",
     "text": [
      "MSE: 0.4514157474040985, MAE: 0.5132109522819519, RMSE: 0.6718748211860657\n"
     ]
    }
   ],
   "source": [
    "mse = mean_squared_error(true_values, predictions)\n",
    "mae = mean_absolute_error(true_values, predictions)\n",
    "rmse = np.sqrt(mse)\n",
    "\n",
    "print(f\"MSE: {mse}, MAE: {mae}, RMSE: {rmse}\")"
   ]
  },
  {
   "cell_type": "markdown",
   "id": "398e02ed",
   "metadata": {},
   "source": [
    "All measures of error have decreased"
   ]
  },
  {
   "cell_type": "markdown",
   "id": "72eae268",
   "metadata": {},
   "source": [
    "### Saving the Model"
   ]
  },
  {
   "cell_type": "code",
   "execution_count": 24,
   "id": "35c1f354",
   "metadata": {},
   "outputs": [],
   "source": [
    "torch.save(model, \"model_complete.pth\")"
   ]
  }
 ],
 "metadata": {
  "kernelspec": {
   "display_name": "Python 3 (ipykernel)",
   "language": "python",
   "name": "python3"
  },
  "language_info": {
   "codemirror_mode": {
    "name": "ipython",
    "version": 3
   },
   "file_extension": ".py",
   "mimetype": "text/x-python",
   "name": "python",
   "nbconvert_exporter": "python",
   "pygments_lexer": "ipython3",
   "version": "3.9.7"
  }
 },
 "nbformat": 4,
 "nbformat_minor": 5
}
